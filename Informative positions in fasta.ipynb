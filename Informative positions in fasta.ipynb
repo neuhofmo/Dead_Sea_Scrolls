{
 "cells": [
  {
   "cell_type": "markdown",
   "metadata": {},
   "source": [
    "# Plot informative position in fasta file"
   ]
  },
  {
   "cell_type": "markdown",
   "metadata": {},
   "source": [
    "### This notebook accompanies the paper \"Illuminating Genetic Mysteries of the Dead Sea Scrolls\"\n",
    "#### Author: Moran Neuhof"
   ]
  },
  {
   "cell_type": "markdown",
   "metadata": {},
   "source": [
    "The following notebook produces the figure as in Figure S5D."
   ]
  },
  {
   "cell_type": "code",
   "execution_count": null,
   "metadata": {},
   "outputs": [],
   "source": [
    "import numpy as np\n",
    "import matplotlib.pyplot as plt\n",
    "import seaborn as sns\n",
    "import pandas as pd\n",
    "import os\n",
    "from Bio import SeqIO\n",
    "from matplotlib.colors import LinearSegmentedColormap\n",
    "%matplotlib inline\n",
    "\n",
    "sns.set_context(\"paper\")\n",
    "sns.set(style=\"white\", palette=\"muted\", color_codes=True)\n",
    "np.set_printoptions(precision=5, suppress=True) "
   ]
  },
  {
   "cell_type": "code",
   "execution_count": null,
   "metadata": {},
   "outputs": [],
   "source": [
    "def is_value(letter):\n",
    "    \"\"\"The function returns 0 if the letter is '-' and 1 if the letter is an informative letter (AGCT).\"\"\"\n",
    "    if letter == '-':\n",
    "        return 0\n",
    "    else:\n",
    "        return 1"
   ]
  },
  {
   "cell_type": "code",
   "execution_count": null,
   "metadata": {},
   "outputs": [],
   "source": [
    "working_folder = None  # folder containing files"
   ]
  },
  {
   "cell_type": "markdown",
   "metadata": {},
   "source": [
    "Load fasta file and specimen names file:"
   ]
  },
  {
   "cell_type": "code",
   "execution_count": null,
   "metadata": {},
   "outputs": [],
   "source": [
    "# load fasta records\n",
    "fasta_fname = 'flex_collapsed_noTransitions_allGenome_16.fasta'  # input fasta file name\n",
    "input_name = os.path.join(working_folder, fasta_fname)  \n",
    "records = list(SeqIO.parse(input_name, \"fasta\"))  # reading the file\n",
    "\n",
    "\n",
    "# load specimen names\n",
    "specimen_filename = os.path.join(working_folder, 'titles_w_outgroup_sheep_only.csv')  # attached to this notebook\n",
    "with open(specimen_filename, 'r') as infile:\n",
    "    real_columns = [line.strip().split(',')[1] for line in infile]\n",
    "    \n",
    "# keeping a list of the specimen names  -> replaced with real_columns\n",
    "index_list = [record.id for record in records]"
   ]
  },
  {
   "cell_type": "code",
   "execution_count": null,
   "metadata": {},
   "outputs": [],
   "source": [
    "# turning the fasta into a list of binary lists\n",
    "list_of_binary_lists = [[is_value(letter) for letter in record.seq] for record in records]   \n",
    "binary_df = pd.DataFrame(np.array(list_of_binary_lists), index=real_columns)  # saving as dataframe"
   ]
  },
  {
   "cell_type": "code",
   "execution_count": null,
   "metadata": {},
   "outputs": [],
   "source": [
    "plt.figure(figsize=(12,8), dpi=300)\n",
    "plt.imshow(binary_df, aspect='auto')\n",
    "plt.yticks(range(len(binary_df)), binary_df.index, fontsize=10)\n",
    "plt.xlabel('position', fontsize=15)\n",
    "plt.ylabel('specimen', fontsize=15)\n",
    "plt.tight_layout();\n",
    "\n",
    "# plt.savefig(os.path.join(working_folder, f\"binary_positional_information_in_fasta.png\"))  # saving figure"
   ]
  }
 ],
 "metadata": {
  "kernelspec": {
   "display_name": "Python 3",
   "language": "python",
   "name": "python3"
  },
  "language_info": {
   "codemirror_mode": {
    "name": "ipython",
    "version": 3
   },
   "file_extension": ".py",
   "mimetype": "text/x-python",
   "name": "python",
   "nbconvert_exporter": "python",
   "pygments_lexer": "ipython3",
   "version": "3.6.4"
  }
 },
 "nbformat": 4,
 "nbformat_minor": 2
}