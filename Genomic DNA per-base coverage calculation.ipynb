{
 "cells": [
  {
   "cell_type": "markdown",
   "metadata": {},
   "source": [
    "# Genomic DNA per-base coverage calculation"
   ]
  },
  {
   "cell_type": "markdown",
   "metadata": {},
   "source": [
    "### This notebook accompanies the paper \"Illuminating Genetic Mysteries of the Dead Sea Scrolls\"\n",
    "#### Author: Moran Neuhof"
   ]
  },
  {
   "cell_type": "markdown",
   "metadata": {},
   "source": [
    "The following notebook describes the code behind the removal of contamination in BAM files.\n",
    "It follows the method described in the \"Genomic DNA coverage calculation\" section of the STAR Methods."
   ]
  },
  {
   "cell_type": "code",
   "execution_count": null,
   "metadata": {},
   "outputs": [],
   "source": [
    "import os\n",
    "from Bio import SeqIO\n",
    "import pysam\n",
    "from collections import Counter\n",
    "import gzip\n",
    "\n",
    "folder_join = os.path.join  # aliasing"
   ]
  },
  {
   "cell_type": "markdown",
   "metadata": {},
   "source": [
    "The code below calculates the per-base coverage of the reference genome.\n",
    "It only considers the special case of Alelle Frequency = 1 (no heterozygosity, no contamination) to avoid bias.\n",
    "This strict condition is used in our downstream analysis (i.e. clustering, pairwise similarity, etc.)"
   ]
  },
  {
   "cell_type": "code",
   "execution_count": null,
   "metadata": {},
   "outputs": [],
   "source": [
    "def calc_af_per_base(ref, val_list):\n",
    "    \"\"\"\n",
    "    Receive reference nucleotide and value list at this position.\n",
    "    Return the reference nucleotide (uppercase), ALT, and the AF\n",
    "    \"\"\"\n",
    "    ref = ref.upper()  # upper case all ref\n",
    "    counter = Counter(val_list)  # counting the values in val_list\n",
    "    if len(counter) == 1:  \n",
    "        if counter[ref] == 0:  # we only have ALT\n",
    "            af = 1\n",
    "            for alt in counter.keys():\n",
    "                return ref, alt, af  # we have af=1 and alt\n",
    "        else:  # we only have REF\n",
    "            af = 0\n",
    "            return ref, ref, af\n",
    "    elif len(counter) == 2:  # ref/alt situation\n",
    "        # we have mixed SNP! print the counter and move on.\n",
    "        print(f\"We have alt/ref mix here, ignoring: {counter}\")\n",
    "        return None, None, None\n",
    "    else:  # we have more than 2 alelles... \n",
    "        print(f\"We have more than 2 alelles, ignoring: {counter}\")\n",
    "        return None, None, None"
   ]
  },
  {
   "cell_type": "markdown",
   "metadata": {},
   "source": [
    "### User parameters:"
   ]
  },
  {
   "cell_type": "code",
   "execution_count": null,
   "metadata": {},
   "outputs": [],
   "source": [
    "MIN_COVERAGE = 3  # Decide on your coverage\n",
    "bam_fname = None  # choose BAM file name to analyze\n",
    "\n",
    "out_file_name = f'{bam_fname}.cov{min_coverage}.af_alt_cov.tsv.gz'\n",
    "FASTA_DB = \"mammal_genomes/sheep/Ovis_aries/GCF_000298735.2_Oar_v4.0_genomic.fna\"  # sheep fasta reference genome\n",
    "record_dict = SeqIO.to_dict(SeqIO.parse(FASTA_DB, \"fasta\"))  # load genome"
   ]
  },
  {
   "cell_type": "markdown",
   "metadata": {},
   "source": [
    "Run and get coverage:"
   ]
  },
  {
   "cell_type": "code",
   "execution_count": null,
   "metadata": {},
   "outputs": [],
   "source": [
    "with gzip.open(out_file_name, 'wt') as outfile:  # writing a compressed file\n",
    "    # read the bam file\n",
    "    print(\"\\t\".join(['CHR', 'POS', 'REF', 'ALT', 'AF', 'COV']), file=outfile)  # printing header to outfile\n",
    "    with pysam.AlignmentFile(bam_fname, \"rb\") as bamfile:\n",
    "        for pileupcolumn in bamfile.pileup():  # for each position\n",
    "            cov = pileupcolumn.n  # get coverage at position\n",
    "            if cov < MIN_COVERAGE:  # minimum coverage\n",
    "                continue  # skip low coverage\n",
    "            \n",
    "            pos = pileupcolumn.pos  # current position\n",
    "            ref_chr = pileupcolumn.reference_name  # reference/chromosome name/ID\n",
    "            ref_nuc = record_dict[ref_chr][pos]  # the nucleotide in the reference genome\n",
    "            \n",
    "            try:  # find the value of this specific position in all covering reads\n",
    "                all_nucs_in_pos = [p.alignment.query[pos - p.alignment.reference_start]  for p in pileupcolumn.pileups]\n",
    "            except IndexError:\n",
    "                print(\"problem with position:\", ref_chr, pos + 1, ref_nuc, cov) \n",
    "            \n",
    "            # getting REF, ALT, AF\n",
    "            REF, ALT, AF = calc_af_per_base(ref_nuc, all_nucs_in_pos)\n",
    "            \n",
    "            if REF:  # if the result was not ambiguous\n",
    "                print(\"\\t\".join([ref_chr, str(pos+1), REF, ALT, str(AF), str(cov)]), file=outfile)  # pos will be printed as 1-based\n",
    "\n",
    "print(\"Done.\")\n"
   ]
  }
 ],
 "metadata": {
  "kernelspec": {
   "display_name": "Python 3",
   "language": "python",
   "name": "python3"
  },
  "language_info": {
   "codemirror_mode": {
    "name": "ipython",
    "version": 3
   },
   "file_extension": ".py",
   "mimetype": "text/x-python",
   "name": "python",
   "nbconvert_exporter": "python",
   "pygments_lexer": "ipython3",
   "version": "3.6.4"
  }
 },
 "nbformat": 4,
 "nbformat_minor": 2
}