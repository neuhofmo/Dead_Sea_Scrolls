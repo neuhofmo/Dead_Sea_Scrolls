{
 "cells": [
  {
   "cell_type": "markdown",
   "metadata": {},
   "source": [
    "# Turn Similarity/Positions Matrix into a circos plot"
   ]
  },
  {
   "cell_type": "markdown",
   "metadata": {},
   "source": [
    "### This notebook accompanies the paper \"Illuminating Genetic Mysteries of the Dead Sea Scrolls\"\n",
    "#### Author: Moran Neuhof"
   ]
  },
  {
   "cell_type": "markdown",
   "metadata": {},
   "source": [
    "The following notebook produces the figure as in Figure 7."
   ]
  },
  {
   "cell_type": "code",
   "execution_count": 1,
   "metadata": {
    "collapsed": true
   },
   "outputs": [],
   "source": [
    "# importing\n",
    "import numpy as np\n",
    "import matplotlib.pyplot as plt\n",
    "import seaborn as sns\n",
    "import pandas as pd\n",
    "import os\n",
    "\n",
    "folder_join = os.path.join  # alias"
   ]
  },
  {
   "cell_type": "code",
   "execution_count": 2,
   "metadata": {
    "collapsed": true
   },
   "outputs": [],
   "source": [
    "working_dir = r\"circos\" # folder of input/output files\n",
    "pos_matrix = \"pos_matrix.xlsx\"  # shared positions matrix\n",
    "sim_matrix = \"sim_matrix.xlsx\"  # similarity matrix\n",
    "pos_matrix_filename = folder_join(working_dir, pos_matrix)\n",
    "sim_matrix_filename = folder_join(working_dir, sim_matrix)"
   ]
  },
  {
   "cell_type": "code",
   "execution_count": 3,
   "metadata": {
    "collapsed": true
   },
   "outputs": [],
   "source": [
    "def fix_columns_and_index(df):\n",
    "    \"\"\"Replacing duplicate '' in column and index names\"\"\"\n",
    "    df.columns = [x.replace('\\'','') for x in df.columns.astype(str)]\n",
    "    df.index = [x.replace('\\'','') for x in df.index.astype(str)]\n",
    "    return df"
   ]
  },
  {
   "cell_type": "code",
   "execution_count": 4,
   "metadata": {
    "collapsed": true
   },
   "outputs": [],
   "source": [
    "# loading the matrices, fixing them nicely to remove '' flanking them\n",
    "pos_df = fix_columns_and_index(pd.read_excel(pos_matrix_filename))\n",
    "sim_df = fix_columns_and_index(pd.read_excel(sim_matrix_filename))"
   ]
  },
  {
   "cell_type": "code",
   "execution_count": 5,
   "metadata": {
    "collapsed": true
   },
   "outputs": [],
   "source": [
    "# loading and creating a list of column names:\n",
    "specimen_filename = os.path.join(working_dir, 'titles_w_outgroup_sheep_only_for_circos.csv')  # File available with notebook\n",
    "with open(specimen_filename, 'r') as infile:\n",
    "    real_columns = [line.strip().split(',')[1] for line in infile]"
   ]
  },
  {
   "cell_type": "markdown",
   "metadata": {},
   "source": [
    "Calculate number of similar positions:"
   ]
  },
  {
   "cell_type": "code",
   "execution_count": 9,
   "metadata": {
    "collapsed": true
   },
   "outputs": [],
   "source": [
    "similar_positions_df = fix_columns_and_index(pos_df.multiply(sim_df))  # number of positions * portion of shared positions"
   ]
  },
  {
   "cell_type": "markdown",
   "metadata": {},
   "source": [
    "### Creating a \"genome file\""
   ]
  },
  {
   "cell_type": "markdown",
   "metadata": {},
   "source": [
    "For the \"genome file\", we will want a reference that holds the diagonal of the positions matrix:"
   ]
  },
  {
   "cell_type": "code",
   "execution_count": 10,
   "metadata": {
    "collapsed": true
   },
   "outputs": [],
   "source": [
    "max_pos_per_sample_df = pd.Series(np.diag(pos_df)*10, index=[x.replace('\\'','') for x in pos_df.index.astype(str)], name=\"Positions\")\n",
    "max_pos_per_sample_df = pd.Series(np.diag(pos_df)*10, index=real_columns, name=\"Positions\")\n",
    "max_pos_per_sample_df.index.name = 'Specimen'"
   ]
  },
  {
   "cell_type": "code",
   "execution_count": 15,
   "metadata": {
    "collapsed": true
   },
   "outputs": [],
   "source": [
    "# sorting the real columns\n",
    "real_columns_sorted = ['Tibetan Sheep',\n",
    "                       'dss001-unknown',\n",
    "                       'dss002-unknown',\n",
    "                       'dss003-unknown',\n",
    "                       '4Q57 frg. 7V',\n",
    "                       '4Q57 frg. 9V',\n",
    "                       '11Q17',\n",
    "                       'Mas1k',\n",
    "                       '4Q404 frg. 5V',\n",
    "                       'WS(4or7)',\n",
    "                       '4Q404 frg. 8V',\n",
    "                       '4Q405-36', \n",
    "                       '4Q57 frg. 6V',\n",
    "                       '4Q59 frg. 25',\n",
    "                       '4Q37 frg. 25',\n",
    "                       '4Q72a',\n",
    "                       '4Q37 frg. 28',\n",
    "                       '4Q344',\n",
    "                       'Hev/Se6',\n",
    "                       'garment-99-9035',\n",
    "                       '4Q57 frg. 25',\n",
    "                       'WS4',\n",
    "                       'WS7',\n",
    "                       '4Q71-t',\n",
    "                       '4Q404 frg. 9V',\n",
    "                       '4Q57 frg. 12',\n",
    "                       '4Q405-518',\n",
    "                       '4Q71-nt',\n",
    "                       'NewScroll-38',\n",
    "                       'NewScroll-39',\n",
    "                       'NewScroll-40']\n",
    "\n",
    "# Removing modern/unknown specimens from display\n",
    "scrolls_to_leave_out_of_index = ['dss001-unknown',\n",
    "                                 'dss002-unknown',\n",
    "                                 'dss003-unknown',\n",
    "                                 'Tibetan Sheep',\n",
    "                                 'NewScroll-38',\n",
    "                                 'NewScroll-39',\n",
    "                                 'NewScroll-40']"
   ]
  },
  {
   "cell_type": "markdown",
   "metadata": {},
   "source": [
    "Preparing the genome file in the right format:"
   ]
  },
  {
   "cell_type": "code",
   "execution_count": 17,
   "metadata": {
    "collapsed": true
   },
   "outputs": [],
   "source": [
    "# Showing the list, but organized:\n",
    "max_pos_per_sample_df_sorted = max_pos_per_sample_df[real_columns_sorted]\n",
    "max_pos_per_sample_df_sorted_short = max_pos_per_sample_df_sorted.drop(scrolls_to_leave_out_of_index)\n",
    "max_pos_per_sample_df_sorted_short.to_csv(folder_join(working_dir,\"circa_chr_file_sorted_short.tsv\"), sep='\\t', header='True')"
   ]
  },
  {
   "cell_type": "markdown",
   "metadata": {},
   "source": [
    "### Creating connections file"
   ]
  },
  {
   "cell_type": "markdown",
   "metadata": {
    "collapsed": true
   },
   "source": [
    "Plotting connections:\n",
    "Output .bed file will look like this:  \n",
    "```\n",
    "sample1    shared_pos     sample2     shared_pos\n",
    "```\n",
    "This file contains the information about the connection between each to samples."
   ]
  },
  {
   "cell_type": "code",
   "execution_count": 21,
   "metadata": {
    "collapsed": true
   },
   "outputs": [],
   "source": [
    "# upper triangle\n",
    "upper_tri_df = fix_columns_and_index(pd.DataFrame(np.triu(similar_positions_df, k=1), index=real_columns, columns=real_columns) )  # changed names\n",
    "\n",
    "sample_names = upper_tri_df.columns.tolist()\n",
    "upper_tri_df['sample_name'] = upper_tri_df.index"
   ]
  },
  {
   "cell_type": "code",
   "execution_count": 22,
   "metadata": {
    "collapsed": true
   },
   "outputs": [],
   "source": [
    "# \"melting\" the matrix\n",
    "melted_df = pd.melt(upper_tri_df, id_vars='sample_name', value_vars=sample_names, var_name='sample2', value_name='shared_pos')\n",
    "melted_df = melted_df[melted_df['shared_pos'] != 0]"
   ]
  },
  {
   "cell_type": "code",
   "execution_count": 28,
   "metadata": {
    "collapsed": true
   },
   "outputs": [],
   "source": [
    "# Ordered list (for aesthetics)\n",
    "sample_line_ordered_list = ['4Q57 frg. 7V',\n",
    "                            '4Q57 frg. 9V',\n",
    "                            '11Q17',\n",
    "                            'Mas1k',\n",
    "                            '4Q404 frg. 5V',\n",
    "                            '4Q57 frg. 6V',\n",
    "                            '4Q59 frg. 25',\n",
    "                            '4Q37 frg. 25',\n",
    "                            '4Q72a',\n",
    "                            '4Q37 frg. 28',\n",
    "                            '4Q344',\n",
    "                            'Hev/Se6',\n",
    "                            'garment-99-9035',\n",
    "                            '4Q57 frg. 25',\n",
    "                            '4Q57 frg. 12',\n",
    "                            'WS4',\n",
    "                            'WS7',\n",
    "                            'WS(4or7)',\n",
    "                            '4Q404 frg. 9V',\n",
    "                            '4Q404 frg. 8V',\n",
    "                            '4Q405-518',\n",
    "                            '4Q405-36', \n",
    "                            '4Q71-t',\n",
    "                            '4Q71-nt']"
   ]
  },
  {
   "cell_type": "code",
   "execution_count": 29,
   "metadata": {
    "collapsed": true
   },
   "outputs": [],
   "source": [
    "# creating an array of random positions on the \"sample\" \n",
    "# a list of our samples\n",
    "sample_list = [x for x in sample_line_ordered_list]  # updated to reorganize the order of fragments\n",
    "\n",
    "cols = ['sample1', 'shared_pos1', 'sample2', 'shared_pos2']\n",
    "frames = []\n",
    "\n",
    "portions = [0.01, 0.1, 0.05, 0.005]  # different portions or the connections to display\n",
    "\n",
    "for portion_of_pos_to_keep in portions:  # for each of the portions\n",
    "    for sample in sample_list:  # iterate over samples\n",
    "        for sample2 in sample_list:   # and another sample\n",
    "            if sample == sample2:\n",
    "                continue  # skipping the duplicates\n",
    "\n",
    "            # the lists are not simmetrical because we are only using the upper triangle\n",
    "            # doing a portion of positions\n",
    "            pos_number = int(int(melted_df[(melted_df.sample_name == sample) & (melted_df.sample2 == sample2)]['shared_pos']) * portion_of_pos_to_keep)  \n",
    "            \n",
    "            # finding random positions for visual representation\n",
    "            random_pos_sample = np.random.randint(0, high=max_pos_per_sample_df[sample], size=pos_number)\n",
    "            random_pos_sample2 = np.random.randint(0, high=max_pos_per_sample_df[sample2], size=pos_number)\n",
    "            # turning them into a dataframe\n",
    "            samples_explicit_df = pd.DataFrame(\n",
    "                {'sample1': [sample]*pos_number,\n",
    "                 'shared_pos1': random_pos_sample,\n",
    "                 'sample2': [sample2]*pos_number,\n",
    "                 'shared_pos2': random_pos_sample2\n",
    "                })[cols]\n",
    "            # appending all dataframes to a list\n",
    "            frames.append(samples_explicit_df)\n",
    "    \n",
    "    # Concatenating the dataframes\n",
    "    rand_pos_df = pd.concat(frames)\n",
    "    rand_pos_df.to_csv(folder_join(working_dir,\"circa_relations_file_ind_positions_no_outgroup.{}.tsv\".format(portion_of_pos_to_keep)), sep='\\t', header=True, index=False)"
   ]
  },
  {
   "cell_type": "markdown",
   "metadata": {
    "collapsed": true
   },
   "source": [
    "The files are now read to be used with [Circa](http://omgenomics.com/circa/)."
   ]
  }
 ],
 "metadata": {
  "anaconda-cloud": {},
  "kernelspec": {
   "display_name": "Python 3",
   "language": "python",
   "name": "python3"
  },
  "language_info": {
   "codemirror_mode": {
    "name": "ipython",
    "version": 3
   },
   "file_extension": ".py",
   "mimetype": "text/x-python",
   "name": "python",
   "nbconvert_exporter": "python",
   "pygments_lexer": "ipython3",
   "version": "3.6.4"
  }
 },
 "nbformat": 4,
 "nbformat_minor": 1
}